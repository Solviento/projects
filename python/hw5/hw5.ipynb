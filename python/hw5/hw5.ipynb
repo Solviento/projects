{
 "cells": [
  {
   "cell_type": "markdown",
   "metadata": {},
   "source": [
    "# Introduction to Python\n",
    "\n",
    "# Homework #5\n",
    "# Due Friday October 14 , 2:00pm \n"
   ]
  },
  {
   "cell_type": "markdown",
   "metadata": {},
   "source": [
    "# Tips"
   ]
  },
  {
   "cell_type": "code",
   "execution_count": 665,
   "metadata": {
    "collapsed": true
   },
   "outputs": [],
   "source": [
    "#Jason Perez\n",
    "#jp3476"
   ]
  },
  {
   "cell_type": "code",
   "execution_count": 9,
   "metadata": {
    "collapsed": false
   },
   "outputs": [
    {
     "data": {
      "text/plain": [
       "array([0, 1, 2, 3, 4, 5, 6, 7, 8])"
      ]
     },
     "execution_count": 9,
     "metadata": {},
     "output_type": "execute_result"
    }
   ],
   "source": [
    "import numpy as np\n",
    "\n",
    "m = np.array(range(9))\n",
    "m"
   ]
  },
  {
   "cell_type": "code",
   "execution_count": 10,
   "metadata": {
    "collapsed": false
   },
   "outputs": [
    {
     "data": {
      "text/plain": [
       "[(9,), 36]"
      ]
     },
     "execution_count": 10,
     "metadata": {},
     "output_type": "execute_result"
    }
   ],
   "source": [
    "[m.shape, m.sum()]"
   ]
  },
  {
   "cell_type": "code",
   "execution_count": 20,
   "metadata": {
    "collapsed": false
   },
   "outputs": [
    {
     "data": {
      "text/plain": [
       "array([[0, 1, 2],\n",
       "       [3, 4, 5],\n",
       "       [6, 7, 8]])"
      ]
     },
     "execution_count": 20,
     "metadata": {},
     "output_type": "execute_result"
    }
   ],
   "source": [
    "m2 = m.reshape((3,3))\n",
    "m2"
   ]
  },
  {
   "cell_type": "code",
   "execution_count": 21,
   "metadata": {
    "collapsed": false
   },
   "outputs": [
    {
     "data": {
      "text/plain": [
       "(3, 3)"
      ]
     },
     "execution_count": 21,
     "metadata": {},
     "output_type": "execute_result"
    }
   ],
   "source": [
    "m2.shape"
   ]
  },
  {
   "cell_type": "code",
   "execution_count": 22,
   "metadata": {
    "collapsed": false
   },
   "outputs": [
    {
     "data": {
      "text/plain": [
       "array([ 9, 12, 15])"
      ]
     },
     "execution_count": 22,
     "metadata": {},
     "output_type": "execute_result"
    }
   ],
   "source": [
    "# column sums\n",
    "\n",
    "m2.sum(axis=0)"
   ]
  },
  {
   "cell_type": "code",
   "execution_count": 23,
   "metadata": {
    "collapsed": false
   },
   "outputs": [
    {
     "data": {
      "text/plain": [
       "array([ 3, 12, 21])"
      ]
     },
     "execution_count": 23,
     "metadata": {},
     "output_type": "execute_result"
    }
   ],
   "source": [
    "# row sums\n",
    "\n",
    "m2.sum(axis=1)"
   ]
  },
  {
   "cell_type": "code",
   "execution_count": 26,
   "metadata": {
    "collapsed": false
   },
   "outputs": [
    {
     "data": {
      "text/plain": [
       "array([[2, 5, 8],\n",
       "       [1, 4, 7],\n",
       "       [0, 3, 6]])"
      ]
     },
     "execution_count": 26,
     "metadata": {},
     "output_type": "execute_result"
    }
   ],
   "source": [
    "# can \"rotate\" a matrix by 90 degrees CCW\n",
    "\n",
    "np.rot90(m2, 5)"
   ]
  },
  {
   "cell_type": "code",
   "execution_count": 8,
   "metadata": {
    "collapsed": false
   },
   "outputs": [
    {
     "data": {
      "text/plain": [
       "array([ True, False,  True, False,  True, False,  True, False,  True], dtype=bool)"
      ]
     },
     "execution_count": 8,
     "metadata": {},
     "output_type": "execute_result"
    }
   ],
   "source": [
    "# b is a 'boolean array'\n",
    "# the array elements are type boolean\n",
    "\n",
    "b = m %2 == 0\n",
    "b"
   ]
  },
  {
   "cell_type": "code",
   "execution_count": 9,
   "metadata": {
    "collapsed": false
   },
   "outputs": [
    {
     "data": {
      "text/plain": [
       "array([0, 2, 4, 6, 8])"
      ]
     },
     "execution_count": 9,
     "metadata": {},
     "output_type": "execute_result"
    }
   ],
   "source": [
    "# when a boolean array is used as an index,\n",
    "# the array elements at the same position \n",
    "# as True elements are placed in a 1D array\n",
    "\n",
    "m[b]"
   ]
  },
  {
   "cell_type": "code",
   "execution_count": 10,
   "metadata": {
    "collapsed": false
   },
   "outputs": [
    {
     "data": {
      "text/plain": [
       "False"
      ]
     },
     "execution_count": 10,
     "metadata": {},
     "output_type": "execute_result"
    }
   ],
   "source": [
    "# all ANDs together all the array elements\n",
    "\n",
    "b.all()"
   ]
  },
  {
   "cell_type": "code",
   "execution_count": 11,
   "metadata": {
    "collapsed": false
   },
   "outputs": [
    {
     "data": {
      "text/plain": [
       "array([ True,  True,  True,  True,  True,  True,  True,  True,  True], dtype=bool)"
      ]
     },
     "execution_count": 11,
     "metadata": {},
     "output_type": "execute_result"
    }
   ],
   "source": [
    "# all elements True\n",
    "\n",
    "b2 = m > -1\n",
    "b2"
   ]
  },
  {
   "cell_type": "code",
   "execution_count": 12,
   "metadata": {
    "collapsed": false
   },
   "outputs": [
    {
     "data": {
      "text/plain": [
       "True"
      ]
     },
     "execution_count": 12,
     "metadata": {},
     "output_type": "execute_result"
    }
   ],
   "source": [
    "b2.all()"
   ]
  },
  {
   "cell_type": "code",
   "execution_count": 13,
   "metadata": {
    "collapsed": false
   },
   "outputs": [
    {
     "data": {
      "text/plain": [
       "array([[ True, False, False],\n",
       "       [False,  True, False],\n",
       "       [False, False,  True]], dtype=bool)"
      ]
     },
     "execution_count": 13,
     "metadata": {},
     "output_type": "execute_result"
    }
   ],
   "source": [
    "# another way to get a boolean array\n",
    "\n",
    "np.identity(3, dtype=bool)"
   ]
  },
  {
   "cell_type": "code",
   "execution_count": 14,
   "metadata": {
    "collapsed": false
   },
   "outputs": [
    {
     "ename": "Exception",
     "evalue": "Reasonable message",
     "output_type": "error",
     "traceback": [
      "\u001b[0;31m---------------------------------------------------------------------------\u001b[0m",
      "\u001b[0;31mException\u001b[0m                                 Traceback (most recent call last)",
      "\u001b[0;32m<ipython-input-14-add5bfc66b9e>\u001b[0m in \u001b[0;36m<module>\u001b[0;34m()\u001b[0m\n\u001b[1;32m      1\u001b[0m \u001b[0;31m# give Exception a string and you get a reasonable error message\u001b[0m\u001b[0;34m\u001b[0m\u001b[0;34m\u001b[0m\u001b[0m\n\u001b[1;32m      2\u001b[0m \u001b[0;34m\u001b[0m\u001b[0m\n\u001b[0;32m----> 3\u001b[0;31m \u001b[0;32mraise\u001b[0m \u001b[0mException\u001b[0m\u001b[0;34m(\u001b[0m\u001b[0;34m'Reasonable message'\u001b[0m\u001b[0;34m)\u001b[0m\u001b[0;34m\u001b[0m\u001b[0m\n\u001b[0m",
      "\u001b[0;31mException\u001b[0m: Reasonable message"
     ]
    }
   ],
   "source": [
    "# give Exception a string and you get a reasonable error message\n",
    "\n",
    "raise Exception('Reasonable message')"
   ]
  },
  {
   "cell_type": "markdown",
   "metadata": {},
   "source": [
    "# Problem 1 - Magic Squares\n",
    "- a magic square is a 2D square array where all the rows, columns, and both diagonals sum to the same number\n",
    "- write function 'magic' \n",
    "    - if arg is not a magic square, return false\n",
    "    - if arg is a magic square, return the sum\n",
    "    - ideally, your function should not have any 'for' loops"
   ]
  },
  {
   "cell_type": "code",
   "execution_count": 79,
   "metadata": {
    "collapsed": true
   },
   "outputs": [],
   "source": [
    "import numpy as np\n",
    "\n",
    "def magic(array):\n",
    "    \n",
    "    if not isinstance(array, np.ndarray):\n",
    "        raise Exception('Not an array')\n",
    "        \n",
    "    s = array.shape\n",
    "    if not 2 == len(s):\n",
    "        raise Exception('Not a 2D array')\n",
    "            \n",
    "    if not s[0] == s[1]:\n",
    "        raise Exception('Not a square')\n",
    "        \n",
    "    col = array.sum(axis=0) #Column sums\n",
    "    row = array.sum(axis=1) #Row sums\n",
    "    \n",
    "    diag = sum([ array[i][i] for i in range(len(array))])\n",
    "    diag2 = sum([ array[len(array)-i-1][i] for i in range(len(array))])\n",
    "    \n",
    "    if diag != diag2:\n",
    "        return False\n",
    "    elif col.all() == row.all():\n",
    "        #print (diag)\n",
    "        return diag\n",
    "    else:\n",
    "        return False\n",
    "    "
   ]
  },
  {
   "cell_type": "code",
   "execution_count": 80,
   "metadata": {
    "collapsed": false
   },
   "outputs": [
    {
     "ename": "Exception",
     "evalue": "Not an array",
     "output_type": "error",
     "traceback": [
      "\u001b[1;31m---------------------------------------------------------------------------\u001b[0m",
      "\u001b[1;31mException\u001b[0m                                 Traceback (most recent call last)",
      "\u001b[1;32m<ipython-input-80-23d9aaca5aa9>\u001b[0m in \u001b[0;36m<module>\u001b[1;34m()\u001b[0m\n\u001b[0;32m      1\u001b[0m \u001b[1;31m# check data type\u001b[0m\u001b[1;33m\u001b[0m\u001b[1;33m\u001b[0m\u001b[0m\n\u001b[0;32m      2\u001b[0m \u001b[1;33m\u001b[0m\u001b[0m\n\u001b[1;32m----> 3\u001b[1;33m \u001b[0mmagic\u001b[0m\u001b[1;33m(\u001b[0m\u001b[1;33m[\u001b[0m\u001b[1;36m2\u001b[0m\u001b[1;33m,\u001b[0m\u001b[1;36m3\u001b[0m\u001b[1;33m,\u001b[0m\u001b[1;36m4\u001b[0m\u001b[1;33m]\u001b[0m\u001b[1;33m)\u001b[0m\u001b[1;33m\u001b[0m\u001b[0m\n\u001b[0m",
      "\u001b[1;32m<ipython-input-79-4a8e4cd894fa>\u001b[0m in \u001b[0;36mmagic\u001b[1;34m(array)\u001b[0m\n\u001b[0;32m      4\u001b[0m \u001b[1;33m\u001b[0m\u001b[0m\n\u001b[0;32m      5\u001b[0m     \u001b[1;32mif\u001b[0m \u001b[1;32mnot\u001b[0m \u001b[0misinstance\u001b[0m\u001b[1;33m(\u001b[0m\u001b[0marray\u001b[0m\u001b[1;33m,\u001b[0m \u001b[0mnp\u001b[0m\u001b[1;33m.\u001b[0m\u001b[0mndarray\u001b[0m\u001b[1;33m)\u001b[0m\u001b[1;33m:\u001b[0m\u001b[1;33m\u001b[0m\u001b[0m\n\u001b[1;32m----> 6\u001b[1;33m         \u001b[1;32mraise\u001b[0m \u001b[0mException\u001b[0m\u001b[1;33m(\u001b[0m\u001b[1;34m'Not an array'\u001b[0m\u001b[1;33m)\u001b[0m\u001b[1;33m\u001b[0m\u001b[0m\n\u001b[0m\u001b[0;32m      7\u001b[0m \u001b[1;33m\u001b[0m\u001b[0m\n\u001b[0;32m      8\u001b[0m     \u001b[0ms\u001b[0m \u001b[1;33m=\u001b[0m \u001b[0marray\u001b[0m\u001b[1;33m.\u001b[0m\u001b[0mshape\u001b[0m\u001b[1;33m\u001b[0m\u001b[0m\n",
      "\u001b[1;31mException\u001b[0m: Not an array"
     ]
    }
   ],
   "source": [
    "# check data type\n",
    "\n",
    "magic([2,3,4])"
   ]
  },
  {
   "cell_type": "code",
   "execution_count": 81,
   "metadata": {
    "collapsed": false
   },
   "outputs": [
    {
     "ename": "Exception",
     "evalue": "Not a 2D array",
     "output_type": "error",
     "traceback": [
      "\u001b[1;31m---------------------------------------------------------------------------\u001b[0m",
      "\u001b[1;31mException\u001b[0m                                 Traceback (most recent call last)",
      "\u001b[1;32m<ipython-input-81-b71bd6ab0ee9>\u001b[0m in \u001b[0;36m<module>\u001b[1;34m()\u001b[0m\n\u001b[0;32m      1\u001b[0m \u001b[1;31m# check for 2D\u001b[0m\u001b[1;33m\u001b[0m\u001b[1;33m\u001b[0m\u001b[0m\n\u001b[0;32m      2\u001b[0m \u001b[1;33m\u001b[0m\u001b[0m\n\u001b[1;32m----> 3\u001b[1;33m \u001b[0mmagic\u001b[0m\u001b[1;33m(\u001b[0m\u001b[0mnp\u001b[0m\u001b[1;33m.\u001b[0m\u001b[0marray\u001b[0m\u001b[1;33m(\u001b[0m\u001b[1;33m[\u001b[0m\u001b[1;36m4\u001b[0m\u001b[1;33m,\u001b[0m\u001b[1;36m5\u001b[0m\u001b[1;33m]\u001b[0m\u001b[1;33m)\u001b[0m\u001b[1;33m)\u001b[0m\u001b[1;33m\u001b[0m\u001b[0m\n\u001b[0m",
      "\u001b[1;32m<ipython-input-79-4a8e4cd894fa>\u001b[0m in \u001b[0;36mmagic\u001b[1;34m(array)\u001b[0m\n\u001b[0;32m      8\u001b[0m     \u001b[0ms\u001b[0m \u001b[1;33m=\u001b[0m \u001b[0marray\u001b[0m\u001b[1;33m.\u001b[0m\u001b[0mshape\u001b[0m\u001b[1;33m\u001b[0m\u001b[0m\n\u001b[0;32m      9\u001b[0m     \u001b[1;32mif\u001b[0m \u001b[1;32mnot\u001b[0m \u001b[1;36m2\u001b[0m \u001b[1;33m==\u001b[0m \u001b[0mlen\u001b[0m\u001b[1;33m(\u001b[0m\u001b[0ms\u001b[0m\u001b[1;33m)\u001b[0m\u001b[1;33m:\u001b[0m\u001b[1;33m\u001b[0m\u001b[0m\n\u001b[1;32m---> 10\u001b[1;33m         \u001b[1;32mraise\u001b[0m \u001b[0mException\u001b[0m\u001b[1;33m(\u001b[0m\u001b[1;34m'Not a 2D array'\u001b[0m\u001b[1;33m)\u001b[0m\u001b[1;33m\u001b[0m\u001b[0m\n\u001b[0m\u001b[0;32m     11\u001b[0m \u001b[1;33m\u001b[0m\u001b[0m\n\u001b[0;32m     12\u001b[0m     \u001b[1;32mif\u001b[0m \u001b[1;32mnot\u001b[0m \u001b[0ms\u001b[0m\u001b[1;33m[\u001b[0m\u001b[1;36m0\u001b[0m\u001b[1;33m]\u001b[0m \u001b[1;33m==\u001b[0m \u001b[0ms\u001b[0m\u001b[1;33m[\u001b[0m\u001b[1;36m1\u001b[0m\u001b[1;33m]\u001b[0m\u001b[1;33m:\u001b[0m\u001b[1;33m\u001b[0m\u001b[0m\n",
      "\u001b[1;31mException\u001b[0m: Not a 2D array"
     ]
    }
   ],
   "source": [
    "# check for 2D\n",
    "\n",
    "magic(np.array([4,5]))"
   ]
  },
  {
   "cell_type": "code",
   "execution_count": 82,
   "metadata": {
    "collapsed": false
   },
   "outputs": [
    {
     "data": {
      "text/plain": [
       "False"
      ]
     },
     "execution_count": 82,
     "metadata": {},
     "output_type": "execute_result"
    }
   ],
   "source": [
    "m = np.array([[3, 11,  6],\n",
    "             [ 9,  7,  5],\n",
    "             [ 8,  3, 10]])\n",
    "\n",
    "magic(m)"
   ]
  },
  {
   "cell_type": "code",
   "execution_count": 83,
   "metadata": {
    "collapsed": false
   },
   "outputs": [
    {
     "data": {
      "text/plain": [
       "array([[ 4, 11,  6],\n",
       "       [ 9,  7,  5],\n",
       "       [ 8,  3, 10]])"
      ]
     },
     "execution_count": 83,
     "metadata": {},
     "output_type": "execute_result"
    }
   ],
   "source": [
    "# fix it\n",
    "\n",
    "m[0,0] = 4\n",
    "m"
   ]
  },
  {
   "cell_type": "code",
   "execution_count": 84,
   "metadata": {
    "collapsed": false
   },
   "outputs": [
    {
     "data": {
      "text/plain": [
       "21"
      ]
     },
     "execution_count": 84,
     "metadata": {},
     "output_type": "execute_result"
    }
   ],
   "source": [
    "magic(m)"
   ]
  },
  {
   "cell_type": "code",
   "execution_count": 85,
   "metadata": {
    "collapsed": false
   },
   "outputs": [
    {
     "data": {
      "text/plain": [
       "array([[22, 12, 18, 87],\n",
       "       [88, 17,  9, 25],\n",
       "       [10, 24, 89, 16],\n",
       "       [19, 86, 23, 11]])"
      ]
     },
     "execution_count": 85,
     "metadata": {},
     "output_type": "execute_result"
    }
   ],
   "source": [
    "m = np.array([22,12,18,87,88,17,9,25,10,24,89,16,19,86,23,11])\n",
    "m = m.reshape((4,4))\n",
    "m"
   ]
  },
  {
   "cell_type": "code",
   "execution_count": 86,
   "metadata": {
    "collapsed": false
   },
   "outputs": [
    {
     "data": {
      "text/plain": [
       "139"
      ]
     },
     "execution_count": 86,
     "metadata": {},
     "output_type": "execute_result"
    }
   ],
   "source": [
    "magic(m)"
   ]
  },
  {
   "cell_type": "markdown",
   "metadata": {},
   "source": [
    "# Problem 2 - Constraints\n",
    "- suppose we want to convert between C(Celsius) and F(Fahrenheit), using the equation 9*C = 5*(F-32)\n",
    "- could write functions 'c2f' and 'f2c'\n",
    "- do all computation in floating point for this problem\n"
   ]
  },
  {
   "cell_type": "code",
   "execution_count": 87,
   "metadata": {
    "collapsed": true
   },
   "outputs": [],
   "source": [
    "def c2f(c):\n",
    "    return( (9.*c + 5. * 32.)/5. )\n",
    "\n",
    "def f2c(f):\n",
    "    return( 5.*(f  - 32)/9. )"
   ]
  },
  {
   "cell_type": "code",
   "execution_count": 88,
   "metadata": {
    "collapsed": false
   },
   "outputs": [
    {
     "data": {
      "text/plain": [
       "[32.0, 212.0, 0.0, 100.0]"
      ]
     },
     "execution_count": 88,
     "metadata": {},
     "output_type": "execute_result"
    }
   ],
   "source": [
    "[c2f(0), c2f(100), f2c(32), f2c(212)]"
   ]
  },
  {
   "cell_type": "markdown",
   "metadata": {},
   "source": [
    "- to write f2c, we solved the equation for C, and made a function out of the other side of the equation\n",
    "- to write c2f, we solved for F, ...\n",
    "- there is another way to think about this \n",
    "- rearrange the equation into a symmetric form\n",
    "\n",
    "```\n",
    "9*C - 5*F = -32*5\n",
    "```\n",
    "\n",
    "- you can think of the equation above as a \"constraint\" between F and C. if you specify one variable, \n",
    "the other's value is determined by the equation. in general, if we have\n",
    "\n",
    "```\n",
    "c0*x0 + c1*x1 + ... cN*xN = total\n",
    "```\n",
    "\n",
    "- cI are fixed coefficients\n",
    "- specifying any N of the (N+1) x's will determine the remaining x variable\n",
    "- define the 'setvar' method on the 'Constaint' class\n",
    "    - does 'constraint satisfaction'\n",
    "    - you may find 'dotnone' to be helpful"
   ]
  },
  {
   "cell_type": "code",
   "execution_count": 89,
   "metadata": {
    "collapsed": true
   },
   "outputs": [],
   "source": [
    "# regular dot product, except that if or both values in a pair is 'None',\n",
    "# that term is defined to contribute 0 to the sum\n",
    "\n",
    "def dotnone(l1, l2):\n",
    "    '''another dot product variant'''\n",
    "    sum = 0\n",
    "    for e1,e2 in zip(l1,l2):\n",
    "        if not (e1 is None or e2 is None):            \n",
    "            sum += e1 * e2\n",
    "    return(sum)"
   ]
  },
  {
   "cell_type": "code",
   "execution_count": 90,
   "metadata": {
    "collapsed": false
   },
   "outputs": [
    {
     "data": {
      "text/plain": [
       "[32, 22, 0]"
      ]
     },
     "execution_count": 90,
     "metadata": {},
     "output_type": "execute_result"
    }
   ],
   "source": [
    "[dotnone([1,2,3], [4,5,6]), dotnone([1,None,3], [4,5,6]), dotnone([None,1], [2,None])]"
   ]
  },
  {
   "cell_type": "code",
   "execution_count": 314,
   "metadata": {
    "collapsed": false
   },
   "outputs": [],
   "source": [
    "import copy\n",
    "\n",
    "class Constraint:\n",
    "    def __init__(self, varnames, coes, total):\n",
    "        self.varnames = varnames\n",
    "        self.coes= [float(c) for c in coes]\n",
    "        self.total = float(total)\n",
    "        self.varvals = [None] * len(coes)\n",
    "        \n",
    "    def __str__(self):\n",
    "        return self.__repr__()\n",
    "    \n",
    "    def __repr__(self):\n",
    "        # display the status of the constraint\n",
    "        # show which vars have values\n",
    "        x = ' + '.join(['{}*{}(={})'.format(coe, var, val) \n",
    "                        for coe,var,val in zip(self.coes, self.varnames, self.varvals)])\n",
    "        return 'Constraint({}={})'.format(self.total, x)\n",
    "    \n",
    "    def setvar(self, arg1, arg2):\n",
    "        # 1st arg - variable index or name (0 || C for Celsius, 1 || F for Farenh)\n",
    "        # 2nd arg - variable value (C, 100 -> Cels = 100, Faren = 212)\n",
    "        \n",
    "        if (type(arg1) == int):\n",
    "            self.varvals[arg1] = arg2\n",
    "            \n",
    "        if (arg1 in self.varnames): #For strings only\n",
    "            ind = self.varnames.index(arg1)\n",
    "            self.varvals[ind] = arg2 #C,F variables set\n",
    "            \n",
    "        noneSentinal = 0\n",
    "        \n",
    "        for i in self.varvals:\n",
    "            if i is None:\n",
    "                noneSentinal += 1\n",
    "            else:\n",
    "                continue\n",
    "                \n",
    "        totalSum = self.total\n",
    "        totalSum -= dotnone(self.coes, self.varvals)\n",
    "        \n",
    "        if noneSentinal == 1:\n",
    "            for j in self.varvals:\n",
    "                if type(j) is type(None):\n",
    "                    ind = self.varvals.index(j)\n",
    "                    self.varvals[ind] = totalSum / self.coes[ind]\n",
    "\n",
    "                    rt = copy.copy(self.varvals)\n",
    "                    for k in self.varvals:\n",
    "                        self.varvals[self.varvals.index(k)] = None\n",
    "                    \n",
    "                    return rt        "
   ]
  },
  {
   "cell_type": "code",
   "execution_count": 315,
   "metadata": {
    "collapsed": false
   },
   "outputs": [
    {
     "data": {
      "text/plain": [
       "Constraint(-160.0=9.0*C(=None) + -5.0*F(=None))"
      ]
     },
     "execution_count": 315,
     "metadata": {},
     "output_type": "execute_result"
    }
   ],
   "source": [
    "# setup constraint btw C and F\n",
    "# 1st arg is var names, \n",
    "# 2nd arg is coefficients\n",
    "# 3rd arg is total\n",
    "\n",
    "c = Constraint(['C', 'F'], [9,-5], -5*32)\n",
    "c"
   ]
  },
  {
   "cell_type": "code",
   "execution_count": 316,
   "metadata": {
    "collapsed": false
   },
   "outputs": [
    {
     "data": {
      "text/plain": [
       "[100, 212.0]"
      ]
     },
     "execution_count": 316,
     "metadata": {},
     "output_type": "execute_result"
    }
   ],
   "source": [
    "# 1st arg - variable index or name\n",
    "# 2nd arg - variable value\n",
    "# setvar will fire when there is only one unset variable remaining\n",
    "# when it fires, setvar will print the variable values, \n",
    "# return them in a list, and clear all the variable values\n",
    "\n",
    "c.setvar(0, 100)"
   ]
  },
  {
   "cell_type": "code",
   "execution_count": 317,
   "metadata": {
    "collapsed": false
   },
   "outputs": [
    {
     "data": {
      "text/plain": [
       "Constraint(-160.0=9.0*C(=None) + -5.0*F(=None))"
      ]
     },
     "execution_count": 317,
     "metadata": {},
     "output_type": "execute_result"
    }
   ],
   "source": [
    "# can set var by index or name\n",
    "\n",
    "c.setvar('C', 0)\n",
    "c"
   ]
  },
  {
   "cell_type": "code",
   "execution_count": 318,
   "metadata": {
    "collapsed": false
   },
   "outputs": [
    {
     "data": {
      "text/plain": [
       "[100.0, 212]"
      ]
     },
     "execution_count": 318,
     "metadata": {},
     "output_type": "execute_result"
    }
   ],
   "source": [
    "c.setvar('F', 212)"
   ]
  },
  {
   "cell_type": "code",
   "execution_count": 319,
   "metadata": {
    "collapsed": false
   },
   "outputs": [
    {
     "data": {
      "text/plain": [
       "Constraint(1.0=0.0*x0(=None) + 1.0*x1(=None) + 2.0*x2(=None) + 3.0*x3(=None) + 4.0*x4(=None))"
      ]
     },
     "execution_count": 319,
     "metadata": {},
     "output_type": "execute_result"
    }
   ],
   "source": [
    "# more complex example\n",
    "# 5 vars\n",
    "\n",
    "c2 = Constraint(['x0', 'x1', 'x2', 'x3', 'x4'], range(5), 1)\n",
    "c2"
   ]
  },
  {
   "cell_type": "code",
   "execution_count": 320,
   "metadata": {
    "collapsed": false
   },
   "outputs": [
    {
     "data": {
      "text/plain": [
       "Constraint(1.0=0.0*x0(=None) + 1.0*x1(=10) + 2.0*x2(=None) + 3.0*x3(=None) + 4.0*x4(=None))"
      ]
     },
     "execution_count": 320,
     "metadata": {},
     "output_type": "execute_result"
    }
   ],
   "source": [
    "c2.setvar('x1', 10)\n",
    "c2"
   ]
  },
  {
   "cell_type": "code",
   "execution_count": 321,
   "metadata": {
    "collapsed": false
   },
   "outputs": [
    {
     "data": {
      "text/plain": [
       "Constraint(1.0=0.0*x0(=0) + 1.0*x1(=10) + 2.0*x2(=None) + 3.0*x3(=None) + 4.0*x4(=None))"
      ]
     },
     "execution_count": 321,
     "metadata": {},
     "output_type": "execute_result"
    }
   ],
   "source": [
    "c2.setvar('x0', 0)\n",
    "c2"
   ]
  },
  {
   "cell_type": "code",
   "execution_count": 322,
   "metadata": {
    "collapsed": false
   },
   "outputs": [
    {
     "data": {
      "text/plain": [
       "Constraint(1.0=0.0*x0(=0) + 1.0*x1(=10) + 2.0*x2(=20) + 3.0*x3(=None) + 4.0*x4(=None))"
      ]
     },
     "execution_count": 322,
     "metadata": {},
     "output_type": "execute_result"
    }
   ],
   "source": [
    "# x2\n",
    "\n",
    "c2.setvar(2,20)\n",
    "c2"
   ]
  },
  {
   "cell_type": "code",
   "execution_count": 323,
   "metadata": {
    "collapsed": false
   },
   "outputs": [
    {
     "data": {
      "text/plain": [
       "[0, 10, 20, -56.333333333333336, 30]"
      ]
     },
     "execution_count": 323,
     "metadata": {},
     "output_type": "execute_result"
    }
   ],
   "source": [
    "# only two unset vars left, so setting x3 or x4 \n",
    "# will fire the constraints\n",
    "\n",
    "c2.setvar('x4', 30)"
   ]
  },
  {
   "cell_type": "markdown",
   "metadata": {},
   "source": [
    "# Problem 3 - Hamlet\n",
    "- Python is very popular in 'digital humanities'\n",
    "- MIT has the complete works of Shakespeare in a simple [html](http://shakespeare.mit.edu) format\n",
    "- You will do a simple analysis of Hamlet by reading the html file, one line at \n",
    "a time(usual iteration scheme) and doing pattern matching\n",
    "- The goal is to return a list of the linecnt, total number of 'speeches'(look at the file format), \n",
    "and a dict showing the number of 'speeches' each character gives\n",
    "- Your program should read directly from the url given, but you may want to download\n",
    "a copy to examine the structure of the file. \n",
    "- remember that urllib.request returns 'byte arrays', not strings\n",
    "- there are at least three ways to do this - your choice\n",
    "    - use string methods like 'find'\n",
    "    - use regular expressions\n",
    "    - use Beautiful Soup\n",
    "- here's a short sample of the file\n",
    "\n",
    "```\n",
    "\n",
    "<A NAME=speech25><b>HORATIO</b></a>\n",
    "<blockquote>\n",
    "<A NAME=1.1.37>Tush, tush, 'twill not appear.</A><br>\n",
    "</blockquote>\n",
    "\n",
    "<A NAME=speech26><b>BERNARDO</b></a>\n",
    "<blockquote>\n",
    "<A NAME=1.1.38>Sit down awhile;</A><br>\n",
    "<A NAME=1.1.39>And let us once again assail your ears,</A><br>\n",
    "<A NAME=1.1.40>That are so fortified against our story</A><br>\n",
    "<A NAME=1.1.41>What we have two nights seen.</A><br>\n",
    "</blockquote>\n",
    "\n",
    "<A NAME=speech27><b>HORATIO</b></a>\n",
    "<blockquote>\n",
    "<A NAME=1.1.42>Well, sit we down,</A><br>\n",
    "<A NAME=1.1.43>And let us hear Bernardo speak of this.</A><br>\n",
    "</blockquote>\n",
    "\n",
    "<A NAME=speech28><b>BERNARDO</b></a>\n",
    "<blockquote>\n",
    "<A NAME=1.1.44>Last night of all,</A><br>\n",
    "<A NAME=1.1.45>When yond same star that's westward from the pole</A><br>\n",
    "<A NAME=1.1.46>Had made his course to illume that part of heaven</A><br>\n",
    "<A NAME=1.1.47>Where now it burns, Marcellus and myself,</A><br>\n",
    "<A NAME=1.1.48>The bell then beating one,--</A><br>\n",
    "<p><i>Enter Ghost</i></p>\n",
    "</blockquote>\n",
    "\n",
    "<A NAME=speech29><b>MARCELLUS</b></a>\n",
    "<blockquote>\n",
    "<A NAME=1.1.49>Peace, break thee off; look, where it comes again!</A><br>\n",
    "</blockquote>\n",
    "\n",
    "<A NAME=speech30><b>BERNARDO</b></a>\n",
    "<blockquote>\n",
    "<A NAME=1.1.50>In the same figure, like the king that's dead.</A><br>\n",
    "</blockquote>\n",
    "```\n",
    "\n"
   ]
  },
  {
   "cell_type": "code",
   "execution_count": 588,
   "metadata": {
    "collapsed": false
   },
   "outputs": [],
   "source": [
    "# use this url for hamlet - do not hit MIT directly\n",
    "# break up long line\n",
    "\n",
    "import urllib.request\n",
    "import requests\n",
    "from collections import defaultdict\n",
    "import re\n",
    "import lxml\n",
    "from bs4 import BeautifulSoup\n",
    "\n",
    "url = 'https://courseworks.columbia.edu/access/content/group/'\n",
    "url += 'COMSW3101_002_2015_3/data/hamlet.html'\n",
    "\n",
    "def hamlet(link):\n",
    "    \n",
    "    data = urllib.request.urlopen(link) # it's a file like object and works just like a file\n",
    "    #for line in data: # files are iterable\n",
    "        #print (type(line))\n",
    "    count = 0\n",
    "    sp = 0\n",
    "    \n",
    "    returnMe = []\n",
    "    default = defaultdict(int)\n",
    "    stringList = []\n",
    "    \n",
    "    for line in data.readlines():\n",
    "        decoded = line.decode(\"utf-8\")\n",
    "        \n",
    "        if '=speech' in decoded:\n",
    "            \n",
    "            end = \"</b></a>\"\n",
    "            spliced = decoded[19: (len(decoded) - 9)]\n",
    "            step1 = spliced.replace(\"b\", \"\")\n",
    "            step2 = step1.replace(\">\", \"\")\n",
    "            stringList.append(step2)\n",
    "                       \n",
    "            sp += 1\n",
    "            \n",
    "        count += 1\n",
    "        \n",
    "    for i in stringList:\n",
    "        default[i] += 1\n",
    "        \n",
    "    returnMe.append(count)\n",
    "    returnMe.append(sp)\n",
    "    returnMe.append(default)\n",
    "    \n",
    "    return returnMe"
   ]
  },
  {
   "cell_type": "code",
   "execution_count": 589,
   "metadata": {
    "collapsed": false,
    "scrolled": true
   },
   "outputs": [
    {
     "data": {
      "text/plain": [
       "[8881,\n",
       " 1150,\n",
       " defaultdict(int,\n",
       "             {'All': 4,\n",
       "              'BERNARDO': 23,\n",
       "              'CORNELIUS': 1,\n",
       "              'Captain': 7,\n",
       "              'Danes': 3,\n",
       "              'FRANCISCO': 8,\n",
       "              'First Amassador': 1,\n",
       "              'First Clown': 33,\n",
       "              'First Player': 8,\n",
       "              'First Priest': 2,\n",
       "              'First Sailor': 2,\n",
       "              'GUILDENSTERN': 33,\n",
       "              'Gentleman': 3,\n",
       "              'Ghost': 14,\n",
       "              'HAMLET': 359,\n",
       "              'HORATIO': 112,\n",
       "              'KING CLAUDIUS': 102,\n",
       "              'LAERTES': 62,\n",
       "              'LORD POLONIUS': 86,\n",
       "              'LUCIANUS': 1,\n",
       "              'Lord': 3,\n",
       "              'MARCELLUS': 36,\n",
       "              'Messenger': 2,\n",
       "              'OPHELIA': 58,\n",
       "              'OSRIC': 25,\n",
       "              'PRINCE FORTINBRAS': 6,\n",
       "              'Player King': 4,\n",
       "              'Player Queen': 5,\n",
       "              'Prologue': 1,\n",
       "              'QUEEN GERTRUDE': 69,\n",
       "              'REYNALDO': 13,\n",
       "              'ROSENCRANTZ': 49,\n",
       "              'Second Clown': 12,\n",
       "              'Servant': 1,\n",
       "              'VOLTIMAND': 2})]"
      ]
     },
     "execution_count": 589,
     "metadata": {},
     "output_type": "execute_result"
    }
   ],
   "source": [
    "hamlet(url)"
   ]
  },
  {
   "cell_type": "code",
   "execution_count": 356,
   "metadata": {
    "collapsed": false
   },
   "outputs": [
    {
     "name": "stdout",
     "output_type": "stream",
     "text": [
      "2645\n"
     ]
    }
   ],
   "source": [
    "hamlet(url)"
   ]
  },
  {
   "cell_type": "markdown",
   "metadata": {},
   "source": [
    "# Problems 4 & 5\n",
    "- in class, we discussed two different ways to represent a polynomial\n",
    "    - polylist, a 'dense' represenation, that hold the coefficients in a list\n",
    "    - polydict, a 'sparse' representation, that holds (exponent, coefficent) pairs in a dict\n",
    "- add a method, 'topolydict()' to class 'polylist', that converts the polylist into a polydict\n",
    "- add a method, 'topolylist()' to class 'polydict', that converts the polydict into a polylist\n",
    "- add a method, ```__mul__``` to class 'polydict', which implements the multiply '*' operator\n",
    "    - see examples below\n",
    "- note that polylist->polydict will always work, but polydict->polylist can fail, because a polylist cannot represent negative exponents. in this case, raise a ValueError\n",
    "- just to tell them apart, polylist prints with a leading '+'"
   ]
  },
  {
   "cell_type": "code",
   "execution_count": 621,
   "metadata": {
    "collapsed": true
   },
   "outputs": [],
   "source": [
    "import functools\n",
    "\n",
    "class polylist: \n",
    "    ''' \n",
    "    list poly representation\n",
    "    coe[n] is the coefficient of the X**n term\n",
    "        \n",
    "    [1,2,3] <=> + 3*X**2 + 2*X + 1\n",
    "    '''\n",
    "    def __init__(self, coe):\n",
    "        self.coe = coe\n",
    "\n",
    "    def termString(self, c , e):\n",
    "        cs = str(c)\n",
    "        if c > 0:\n",
    "            cs = '+ ' + cs\n",
    "        if (e == 0):\n",
    "            return(cs)\n",
    "        if (e == 1):\n",
    "            return('%s*X' % cs)    \n",
    "        return('%s*X**%d' % (cs,e))\n",
    "        \n",
    "    def __str__(self):\n",
    "        # print math style\n",
    "        if self.coe == []:\n",
    "            return('0')\n",
    "        terms = [self.termString(c,e) \n",
    "            for e,c in enumerate(self.coe) \n",
    "            if c != 0]\n",
    "        terms.reverse()\n",
    "        s = (' '.join(terms))\n",
    "        # get rid of leading + \n",
    "        return(s)\n",
    "        \n",
    "    def __repr__(self):\n",
    "        return(self.__str__())\n",
    "\n",
    "    def __len__(self):\n",
    "        # number of non zero terms\n",
    "        # 0 len => bool false\n",
    "        return(len(self.coe) - self.coe.count(0))\n",
    "\n",
    "    def __add__(self, p2):\n",
    "        p1len = len(self.coe)\n",
    "        p2len = len(p2.coe)\n",
    "        pad = p2len - p1len\n",
    "        c1 = self.coe\n",
    "        c2 = p2.coe\n",
    "        \n",
    "        if pad < 0:\n",
    "            c1, c2 = c2, c1\n",
    "            pad = -pad\n",
    "    \n",
    "        c1 = c1[:]\n",
    "        \n",
    "        c1.extend([0]*pad)\n",
    "    \n",
    "        return(polylist([t1+t2 for t1,t2 in zip(c1,c2)]))\n",
    "    \n",
    "    # don't allow a hash\n",
    "    __hash__ = None    \n",
    "    \n",
    "    def evaluate(self, n):\n",
    "        sum = 0\n",
    "        for e,c in enumerate(self.coe):\n",
    "            sum += c*n**e\n",
    "        return(sum)\n",
    "\n",
    "    def differentiate(self):\n",
    "        return(polylist([e*c for e,c in enumerate(self.coe)][1:]))\n",
    "    \n",
    "    def integrate(self):\n",
    "        pi = [c/(e+1.) for e,c in enumerate(self.coe)]\n",
    "        pi.insert(0,0)\n",
    "        return(polylist(pi))\n",
    "    \n",
    "    def __mul__(self, p2):\n",
    "        sums = []\n",
    "        for e1,c1 in enumerate(self.coe):\n",
    "            prod = [c1 * c2 for c2 in p2.coe]\n",
    "            for rpt in range(e1):\n",
    "                prod.insert(0, 0)\n",
    "            sums.append(polylist(prod))\n",
    "        return(functools.reduce(polylist.__add__, sums))\n",
    "    \n",
    "    def topolydict(self):\n",
    "        \n",
    "        co = self.coe #[0, 10, 5]\n",
    "        d = {}\n",
    "        lis = list(range(1000))\n",
    "\n",
    "        for i in co:\n",
    "            if i == 0:\n",
    "                continue\n",
    "                \n",
    "            else:\n",
    "                ind = self.coe.index(i)\n",
    "                d[lis[ind]] = i\n",
    "                \n",
    "        pd = polydict(d)\n",
    "        \n",
    "        return(pd)\n",
    "        "
   ]
  },
  {
   "cell_type": "code",
   "execution_count": 661,
   "metadata": {
    "collapsed": true
   },
   "outputs": [],
   "source": [
    "class polydict:\n",
    "    '''sparse poly representation using a dict\n",
    "        sparse is {exponent:coefficient, ...}\n",
    "        only non-zero terms appear in the dict\n",
    "        \n",
    "        {2:3, 1:2, 0:1} <=> 3*X**2 + 2*X + 1\n",
    "    '''\n",
    "    def __init__(self, d={}):\n",
    "\n",
    "        # why the copy??\n",
    "        self.sparse = d.copy()\n",
    "\n",
    "    def printTerm(self, c ,e):\n",
    "        cs = str(c)\n",
    "        if c > 0:\n",
    "            cs = '+ ' + cs\n",
    "        if (e == 0):\n",
    "            return(cs)\n",
    "        if (e == 1):\n",
    "            return('%s*X' % cs)    \n",
    "        return('%s*X**%d' % (cs,e))   \n",
    "        \n",
    "    def __str__(self):\n",
    "        if len(self.sparse) == 0:\n",
    "            return('0')\n",
    "        terms = [self.printTerm(self.sparse[e],e) \n",
    "                for e in sorted(self.sparse.keys(), \n",
    "                                reverse=True) \n",
    "                    if self.sparse[e] != 0]\n",
    "        s = ' '.join(terms)\n",
    "        if '+ ' == s[0:2]:\n",
    "            s = s[2:]\n",
    "        return (s)\n",
    "    \n",
    "    def __repr__(self):\n",
    "        return(self.__str__())\n",
    "\n",
    "    # don't allow a hash\n",
    "    __hash__ = None  \n",
    "    \n",
    "    def __len__(self):\n",
    "        return(len(self.sparse))\n",
    "\n",
    "    # can explicity define bool\n",
    "    def __bool__(self):\n",
    "        return(False if len(self.sparse)==0 else True)\n",
    "        \n",
    "    def __iter__(self):\n",
    "        # return a generator function that will\n",
    "        # iterate thru (exp, coe) pairs\n",
    "        return( (i for i in self.sparse.items() ))\n",
    "\n",
    "    # should check types\n",
    "    def __eq__(self, other):\n",
    "        return(self.sparse == other.sparse)\n",
    "        \n",
    "    def __ne__(self, other):\n",
    "        return(self.sparse != other.sparse)\n",
    "        \n",
    "    # define comparsion to be value of poly at 1\n",
    "    def __lt__(self, other):\n",
    "        return(self.evaluate(1) < other.evaluate(1))\n",
    "        \n",
    "    def __le__(self, other):\n",
    "        return(self.evaluate(1) <= other.evaluate(1))\n",
    "        \n",
    "    # does poly 'contain' an exponent?\n",
    "    def __contains__(self, e):\n",
    "        return(e in self.sparse)\n",
    "                \n",
    "    def evaluate(self, n):\n",
    "        '''eval poly at x=n'''\n",
    "        sum = 0\n",
    "        for e in self.sparse.keys():\n",
    "            sum += self.sparse[e]*n**e\n",
    "        return(sum)\n",
    "            \n",
    "    def __add__(self, p2):\n",
    "        '''add two polys'''\n",
    "        n = self.sparse.copy()\n",
    "        for k,v in p2.sparse.items():\n",
    "            if None == n.get(k):\n",
    "                n[k] = v\n",
    "            else:\n",
    "                n[k] += v\n",
    "        return(polydict(n))\n",
    "        \n",
    "    def __getitem__(self, index):\n",
    "        '''pull out terms of the poly\n",
    "           p[2], p[2:5]\n",
    "           '''\n",
    "        keys = sorted(self.sparse.keys(), reverse=True)\n",
    "        if isinstance(index, int):\n",
    "            # if asked for a single term, p[n], index will\n",
    "            # be an int\n",
    "            inds = [index]\n",
    "        if isinstance(index, slice):\n",
    "            # if asked for a slice, p[n:m], index will be\n",
    "            # a 'slice' object\n",
    "            inds = range(*index.indices(len(keys)))\n",
    "        d = {}\n",
    "        for i in inds:\n",
    "            e = keys[i]\n",
    "            d[e] = self.sparse[e]\n",
    "        return(polydict(d))\n",
    "\n",
    "    def differentiate(self):\n",
    "        d = {}\n",
    "        for e,c in self.sparse.items():\n",
    "            if e != 0:\n",
    "                d[e-1] = c * e\n",
    "        return(polydict(d))\n",
    "    \n",
    "    def integrate(self):\n",
    "        d = {}\n",
    "        for e,c in self.sparse.items():\n",
    "            d[e+1] = c /(e+1.)\n",
    "        return(polydict(d))\n",
    "    \n",
    "    def __mul__(self):\n",
    "        d = {}\n",
    "\n",
    "    def topolylist(self):\n",
    "        \n",
    "        co = self.sparse #dictionary {1:10, 2:5}\n",
    "        lis = [0] * 100\n",
    "        \n",
    "        for key in sorted(co.keys()):\n",
    "            #key will be index number\n",
    "            if key < 0:\n",
    "                raise ValueError(\"Negative exponent = {}\".format(key))\n",
    "            lis[key] = co[key]\n",
    "                        \n",
    "        pl = polylist(lis)\n",
    "        \n",
    "        val = list(co.keys())\n",
    "        last = val[-1]\n",
    "        \n",
    "        lis = [x for x in lis if (x != 0 and lis.index(x) > last)]\n",
    "        \n",
    "        return(pl)"
   ]
  },
  {
   "cell_type": "code",
   "execution_count": 662,
   "metadata": {
    "collapsed": false
   },
   "outputs": [
    {
     "data": {
      "text/plain": [
       "[+ 3*X**2 + 2*X + 1,\n",
       " + 5*X**2 + 10*X,\n",
       " 3*X**2 + 2*X + 1,\n",
       " 5*X**2 + 10*X,\n",
       " 5*X**2 + 10*X**-1]"
      ]
     },
     "execution_count": 662,
     "metadata": {},
     "output_type": "execute_result"
    }
   ],
   "source": [
    "# test polys\n",
    "\n",
    "pl1 = polylist([1, 2, 3])\n",
    "pl2 = polylist([0, 10, 5])\n",
    "pd1 = polydict({2:3, 1:2, 0:1})\n",
    "pd2 = polydict({1:10, 2:5})\n",
    "pd3 = polydict({-1:10, 2:5})\n",
    "\n",
    "[pl1, pl2, pd1, pd2, pd3]"
   ]
  },
  {
   "cell_type": "code",
   "execution_count": 663,
   "metadata": {
    "collapsed": false
   },
   "outputs": [
    {
     "data": {
      "text/plain": [
       "[3*X**2 + 2*X + 1, 5*X**2 + 10*X, + 3*X**2 + 2*X + 1, + 5*X**2 + 10*X]"
      ]
     },
     "execution_count": 663,
     "metadata": {},
     "output_type": "execute_result"
    }
   ],
   "source": [
    "[pl1.topolydict(), pl2.topolydict(), pd1.topolylist(), pd2.topolylist()]"
   ]
  },
  {
   "cell_type": "code",
   "execution_count": 664,
   "metadata": {
    "collapsed": false
   },
   "outputs": [
    {
     "ename": "ValueError",
     "evalue": "Negative exponent = -1",
     "output_type": "error",
     "traceback": [
      "\u001b[1;31m---------------------------------------------------------------------------\u001b[0m",
      "\u001b[1;31mValueError\u001b[0m                                Traceback (most recent call last)",
      "\u001b[1;32m<ipython-input-664-6677040880a3>\u001b[0m in \u001b[0;36m<module>\u001b[1;34m()\u001b[0m\n\u001b[1;32m----> 1\u001b[1;33m \u001b[0mpd3\u001b[0m\u001b[1;33m.\u001b[0m\u001b[0mtopolylist\u001b[0m\u001b[1;33m(\u001b[0m\u001b[1;33m)\u001b[0m\u001b[1;33m\u001b[0m\u001b[0m\n\u001b[0m",
      "\u001b[1;32m<ipython-input-661-878b1cea0227>\u001b[0m in \u001b[0;36mtopolylist\u001b[1;34m(self)\u001b[0m\n\u001b[0;32m    129\u001b[0m             \u001b[1;31m#key will be index number\u001b[0m\u001b[1;33m\u001b[0m\u001b[1;33m\u001b[0m\u001b[0m\n\u001b[0;32m    130\u001b[0m             \u001b[1;32mif\u001b[0m \u001b[0mkey\u001b[0m \u001b[1;33m<\u001b[0m \u001b[1;36m0\u001b[0m\u001b[1;33m:\u001b[0m\u001b[1;33m\u001b[0m\u001b[0m\n\u001b[1;32m--> 131\u001b[1;33m                 \u001b[1;32mraise\u001b[0m \u001b[0mValueError\u001b[0m\u001b[1;33m(\u001b[0m\u001b[1;34m\"Negative exponent = {}\"\u001b[0m\u001b[1;33m.\u001b[0m\u001b[0mformat\u001b[0m\u001b[1;33m(\u001b[0m\u001b[0mkey\u001b[0m\u001b[1;33m)\u001b[0m\u001b[1;33m)\u001b[0m\u001b[1;33m\u001b[0m\u001b[0m\n\u001b[0m\u001b[0;32m    132\u001b[0m             \u001b[0mlis\u001b[0m\u001b[1;33m[\u001b[0m\u001b[0mkey\u001b[0m\u001b[1;33m]\u001b[0m \u001b[1;33m=\u001b[0m \u001b[0mco\u001b[0m\u001b[1;33m[\u001b[0m\u001b[0mkey\u001b[0m\u001b[1;33m]\u001b[0m\u001b[1;33m\u001b[0m\u001b[0m\n\u001b[0;32m    133\u001b[0m \u001b[1;33m\u001b[0m\u001b[0m\n",
      "\u001b[1;31mValueError\u001b[0m: Negative exponent = -1"
     ]
    }
   ],
   "source": [
    "pd3.topolylist()"
   ]
  },
  {
   "cell_type": "code",
   "execution_count": 49,
   "metadata": {
    "collapsed": false
   },
   "outputs": [
    {
     "data": {
      "text/plain": [
       "[3*X**2 + 2*X + 1,\n",
       " 5*X**2 + 10*X,\n",
       " 5*X**2 + 10*X**-1,\n",
       " 15*X**4 + 40*X**3 + 25*X**2 + 10*X,\n",
       " 15*X**4 + 10*X**3 + 5*X**2 + 30*X + 20 + 10*X**-1,\n",
       " 25*X**4 + 50*X**3 + 50*X + 100]"
      ]
     },
     "execution_count": 49,
     "metadata": {},
     "output_type": "execute_result"
    }
   ],
   "source": [
    "# multiply method examples\n",
    "\n",
    "[pd1, pd2, pd3, pd1 * pd2, pd1 * pd3, pd2 * pd3]"
   ]
  }
 ],
 "metadata": {
  "anaconda-cloud": {},
  "kernelspec": {
   "display_name": "Python [Root]",
   "language": "python",
   "name": "Python [Root]"
  },
  "language_info": {
   "codemirror_mode": {
    "name": "ipython",
    "version": 3
   },
   "file_extension": ".py",
   "mimetype": "text/x-python",
   "name": "python",
   "nbconvert_exporter": "python",
   "pygments_lexer": "ipython3",
   "version": "3.5.2"
  }
 },
 "nbformat": 4,
 "nbformat_minor": 0
}
