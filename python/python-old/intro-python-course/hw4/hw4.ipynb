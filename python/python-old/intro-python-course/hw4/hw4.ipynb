{
 "cells": [
  {
   "cell_type": "markdown",
   "metadata": {},
   "source": [
    "# Introduction to Python\n",
    "# Homework #4\n",
    "# Due Friday,  October 7, 2pm in Courseworks\n",
    "- You MUST submit on Courseworks before it closes\n",
    "- Email submissions are NOT accepted"
   ]
  },
  {
   "cell_type": "markdown",
   "metadata": {},
   "source": [
    "# Academic Honesty\n",
    "* The computer science department has strict polices. Check\n",
    "the department [web page](http://www.cs.columbia.edu/education/honesty) for details. \n",
    "- Do not look at anybody else's source code. Do not show anybody\n",
    "your source, or leave your source where somebody could see it.\n",
    "You MUST write your own code.\n",
    "- For this class, feel free to discuss issues with other people, but suggest waiting an hour or two after a discussion, before writing your code.\n",
    "-  Cases of non original source will be refered to the Judical Committee.\n",
    "\n"
   ]
  },
  {
   "cell_type": "markdown",
   "metadata": {},
   "source": [
    "# Problem 1 - walkfs\n",
    "- def walkfs(startdir, findfile):\n",
    "- 'startdir' is an absolute pathname(starts with a '/', like '/foo/bar/zap.txt')\n",
    "- 'findfile' is a relative pathname(no '/', like 'name.ext')\n",
    "- walkfs recursively searches the file system, starting at 'startdir'\n",
    "- it counts the number of dirs and files it sees\n",
    "- it looks for 'findfile' - if it finds it, it stores its absolute pathname\n",
    "- it returns what it finds in a dict\n",
    "- walkfs can throw errors\n",
    "    - if 'startdir' does not exist, raise a FileNotFoundError\n",
    "    - if 'startdir' is a file, not a directory, raise a NotADirectoryError\n",
    "- your loop should be:\n",
    "    - for curdir,dirs,files in os.walk(startdir):\n",
    "    - curdir will be an absolute pathname of a directory\n",
    "    - dirs and files are lists of relative paths - the dirs and files in curdir\n",
    "- see 07-files, 11-errors notebooks"
   ]
  },
  {
   "cell_type": "code",
   "execution_count": 3,
   "metadata": {
    "collapsed": false
   },
   "outputs": [],
   "source": [
    "#Jason Perez\n",
    "#The code works with my computer (Windows 64-bit)\n",
    "#when run from the \\\\Users\\\\Jason\\\\Anaconda3 filepath\n",
    "\n",
    "import os \n",
    "import sys\n",
    "\n",
    "def walkfs(startdir, findfile):\n",
    "    \n",
    "    if not os.path.exists(startdir): \n",
    "        raise FileNotFoundError\n",
    "        return\n",
    "    \n",
    "    if not os.path.isdir(startdir):\n",
    "        raise NotADirectoryError\n",
    "        return\n",
    "        \n",
    "    if os.path.isdir(startdir):\n",
    "        \n",
    "        dircount = 0\n",
    "        filecount = 0\n",
    "        \n",
    "        dictionary = {}\n",
    "        \n",
    "        dictionary['findfile'] = findfile\n",
    "        dictionary['stardir'] = startdir\n",
    "        \n",
    "        for curDir, dirs, files in os.walk(startdir):\n",
    "            \n",
    "            for file in files:\n",
    "                \n",
    "                filecount += len(files)\n",
    "                dircount += len(dirs)\n",
    "                \n",
    "                if file.endswith(findfile):\n",
    "                    dictionary['findfilepath'] = os.path.join(curDir, file)\n",
    "                \n",
    "        dictionary['dircnt'] = dircount\n",
    "        dictionary['filecnt'] = filecount\n",
    "           \n",
    "    return(dictionary)"
   ]
  },
  {
   "cell_type": "markdown",
   "metadata": {},
   "source": [
    "the sample runs will use this filetree\n",
    "here are the directories and files under:\n",
    "\n",
    "/Users/lstead/me/classes/columbia/python/code/filetree/\n",
    "\n",
    "there are 7 directories and 4 files:\n",
    "\n",
    "/Users/lstead/me/classes/columbia/python/code/filetree\n",
    "/Users/lstead/me/classes/columbia/python/code/filetree/dir1\n",
    "/Users/lstead/me/classes/columbia/python/code/filetree/dir1/anotherfile.txt\n",
    "/Users/lstead/me/classes/columbia/python/code/filetree/dir1/dir11\n",
    "/Users/lstead/me/classes/columbia/python/code/filetree/dir1/dir11/.DS_Store\n",
    "/Users/lstead/me/classes/columbia/python/code/filetree/dir1/dir11/dir111\n",
    "/Users/lstead/me/classes/columbia/python/code/filetree/dir1/dir11/dir111/dir112\n",
    "/Users/lstead/me/classes/columbia/python/code/filetree/dir1/dir11/dir111/dir112/.DS_Store\n",
    "/Users/lstead/me/classes/columbia/python/code/filetree/dir1/dir11/dir111/dir112/findtest.txt\n",
    "/Users/lstead/me/classes/columbia/python/code/filetree/dir2\n",
    "/Users/lstead/me/classes/columbia/python/code/filetree/dir2/dir21\n",
    "\n"
   ]
  },
  {
   "cell_type": "code",
   "execution_count": 4,
   "metadata": {
    "collapsed": false,
    "scrolled": true
   },
   "outputs": [
    {
     "ename": "FileNotFoundError",
     "evalue": "",
     "output_type": "error",
     "traceback": [
      "\u001b[1;31m---------------------------------------------------------------------------\u001b[0m",
      "\u001b[1;31mFileNotFoundError\u001b[0m                         Traceback (most recent call last)",
      "\u001b[1;32m<ipython-input-4-c90b9d79138c>\u001b[0m in \u001b[0;36m<module>\u001b[1;34m()\u001b[0m\n\u001b[1;32m----> 1\u001b[1;33m \u001b[0mwalkfs\u001b[0m\u001b[1;33m(\u001b[0m\u001b[1;34m'\\\\Users\\\\Jason\\\\Anaconda3\\\\fa.txt'\u001b[0m\u001b[1;33m,\u001b[0m \u001b[1;34m'findTest.txt'\u001b[0m\u001b[1;33m)\u001b[0m\u001b[1;33m\u001b[0m\u001b[0m\n\u001b[0m",
      "\u001b[1;32m<ipython-input-3-f217c03b60d9>\u001b[0m in \u001b[0;36mwalkfs\u001b[1;34m(startdir, findfile)\u001b[0m\n\u001b[0;32m      5\u001b[0m \u001b[1;33m\u001b[0m\u001b[0m\n\u001b[0;32m      6\u001b[0m     \u001b[1;32mif\u001b[0m \u001b[1;32mnot\u001b[0m \u001b[0mos\u001b[0m\u001b[1;33m.\u001b[0m\u001b[0mpath\u001b[0m\u001b[1;33m.\u001b[0m\u001b[0mexists\u001b[0m\u001b[1;33m(\u001b[0m\u001b[0mstartdir\u001b[0m\u001b[1;33m)\u001b[0m\u001b[1;33m:\u001b[0m\u001b[1;33m\u001b[0m\u001b[0m\n\u001b[1;32m----> 7\u001b[1;33m         \u001b[1;32mraise\u001b[0m \u001b[0mFileNotFoundError\u001b[0m\u001b[1;33m\u001b[0m\u001b[0m\n\u001b[0m\u001b[0;32m      8\u001b[0m         \u001b[1;32mreturn\u001b[0m\u001b[1;33m\u001b[0m\u001b[0m\n\u001b[0;32m      9\u001b[0m \u001b[1;33m\u001b[0m\u001b[0m\n",
      "\u001b[1;31mFileNotFoundError\u001b[0m: "
     ]
    }
   ],
   "source": [
    "walkfs('\\\\Users\\\\Jason\\\\Anaconda3\\\\fa.txt', 'findTest.txt')"
   ]
  },
  {
   "cell_type": "code",
   "execution_count": 49,
   "metadata": {
    "collapsed": false
   },
   "outputs": [
    {
     "data": {
      "text/plain": [
       "{'dircnt': 113530,\n",
       " 'filecnt': 4367310,\n",
       " 'findfile': 'bye.txt',\n",
       " 'findfilepath': '\\\\Users\\\\Jason\\\\Anaconda3\\\\info\\\\bye.txt',\n",
       " 'stardir': '\\\\Users\\\\Jason\\\\Anaconda3'}"
      ]
     },
     "execution_count": 49,
     "metadata": {},
     "output_type": "execute_result"
    }
   ],
   "source": [
    "walkfs('\\\\Users\\\\Jason\\\\Anaconda3', 'bye.txt')"
   ]
  },
  {
   "cell_type": "code",
   "execution_count": 37,
   "metadata": {
    "collapsed": false
   },
   "outputs": [
    {
     "data": {
      "text/plain": [
       "{'dircnt': 113530,\n",
       " 'filecnt': 4367310,\n",
       " 'findfile': 'fake.txt',\n",
       " 'stardir': '\\\\Users\\\\Jason\\\\Anaconda3'}"
      ]
     },
     "execution_count": 37,
     "metadata": {},
     "output_type": "execute_result"
    }
   ],
   "source": [
    "walkfs('\\\\Users\\\\Jason\\\\Anaconda3', 'fake.txt')"
   ]
  },
  {
   "cell_type": "code",
   "execution_count": 70,
   "metadata": {
    "collapsed": false
   },
   "outputs": [
    {
     "data": {
      "text/plain": [
       "defaultdict(int,\n",
       "            {'dircnt': 7,\n",
       "             'filecnt': 4,\n",
       "             'findfile': 'somefile.txt',\n",
       "             'startdir': '/Users/lstead/me/classes/columbia/python/code/filetree'})"
      ]
     },
     "execution_count": 70,
     "metadata": {},
     "output_type": "execute_result"
    }
   ],
   "source": [
    "# strartdir is ok, but somefile.txt doesn't exist\n",
    "\n",
    "walkfs('/Users/lstead/me/classes/columbia/python/code/filetree', \n",
    "       'somefile.txt')"
   ]
  },
  {
   "cell_type": "code",
   "execution_count": 71,
   "metadata": {
    "collapsed": false
   },
   "outputs": [
    {
     "data": {
      "text/plain": [
       "defaultdict(int,\n",
       "            {'dircnt': 7,\n",
       "             'filecnt': 4,\n",
       "             'findfile': 'findtest.txt',\n",
       "             'findfilepath': '/Users/lstead/me/classes/columbia/python/code/filetree/dir1/dir11/dir111/dir112/findtest.txt',\n",
       "             'startdir': '/Users/lstead/me/classes/columbia/python/code/filetree'})"
      ]
     },
     "execution_count": 71,
     "metadata": {},
     "output_type": "execute_result"
    }
   ],
   "source": [
    "# startdir is ok, 'findtest.txt' does exist, \n",
    "# so the value of key 'findfilepath' \n",
    "# is set to the absolute path of 'findtest.txt'\n",
    "\n",
    "walkfs('/Users/lstead/me/classes/columbia/python/code/filetree', \n",
    "       'findtest.txt')"
   ]
  },
  {
   "cell_type": "markdown",
   "metadata": {},
   "source": [
    "# Problem 2 - report\n",
    "- def report(startdir, findfile, reportpath):\n",
    "- report calls walkfs, and writes the information found by walkfs into file reportpath\n",
    "- additionally, if findfile is found, the contents of the file are printed at the end of the report\n",
    "- report should NOT have any 'try' clauses\n",
    "    - if walkfs raises an error, report will let it go to the caller of report\n",
    "- use 'with' block for file IO"
   ]
  },
  {
   "cell_type": "code",
   "execution_count": 200,
   "metadata": {
    "collapsed": true
   },
   "outputs": [],
   "source": [
    "#Report.txt is written in the filepath\n",
    "# \\\\tmp when run\n",
    "\n",
    "def report(startdir, findfile, reportpath):\n",
    "    \n",
    "    diction = walkfs(startdir, findfile)\n",
    "    \n",
    "    dcount = 0\n",
    "    fcount = 0\n",
    "    \n",
    "    for key, value in diction.items():\n",
    "        \n",
    "        dcount = diction.get('dircnt')\n",
    "        fcount = diction.get('filecnt')\n",
    "            \n",
    "        if key == 'findfilepath':\n",
    "            \n",
    "            fpath = diction.get(key)\n",
    "            \n",
    "            with open(reportpath, 'w') as report:\n",
    "                \n",
    "                report.write(\"recursively searched from startdir:\\n%s\\nfound %d dirs \\nfound %d files \\n\\nfound file: \\n%s \\nfilecontents: \\n\\n\" % (startdir, dcount, fcount, fpath))\n",
    "                \n",
    "            foundpath = diction.get('findfilepath')\n",
    "                \n",
    "            with open(foundpath, \"r\") as p:\n",
    "                    with open(reportpath, \"a\") as f:\n",
    "                        for line in p:\n",
    "                            f.write(line)\n",
    "                \n",
    "            break\n",
    "        else:\n",
    "            with open(reportpath, 'w') as report:\n",
    "                \n",
    "                report.write(\"recursively searched from startdir:\\n%s\\nfound %d dirs \\nfound %d files \\n\\ndid not find file: \\n%s \" % (startdir, dcount, fcount, findfile))\n",
    "                break\n",
    "    return(diction)"
   ]
  },
  {
   "cell_type": "code",
   "execution_count": 201,
   "metadata": {
    "collapsed": false
   },
   "outputs": [
    {
     "data": {
      "text/plain": [
       "{'dircnt': 113530,\n",
       " 'filecnt': 4367310,\n",
       " 'findfile': 'bye.txt',\n",
       " 'findfilepath': '\\\\Users\\\\Jason\\\\Anaconda3\\\\info\\\\bye.txt',\n",
       " 'stardir': '\\\\Users\\\\Jason\\\\Anaconda3'}"
      ]
     },
     "execution_count": 201,
     "metadata": {},
     "output_type": "execute_result"
    }
   ],
   "source": [
    "report('\\\\Users\\\\Jason\\\\Anaconda3', 'bye.txt', '\\\\tmp\\\\report.txt')"
   ]
  },
  {
   "cell_type": "markdown",
   "metadata": {},
   "source": [
    "# Contents of \\tmp\\report.txt:\n",
    "```\n",
    "recursively searched from startdir:\n",
    "\\Users\\Jason\\Anaconda3\n",
    "found 113530 dirs \n",
    "found 4367310 files \n",
    "\n",
    "found file: \n",
    "\\Users\\Jason\\Anaconda3\\info\\bye.txt \n",
    "filecontents: \n",
    "\n",
    "Can Python\n",
    "find\n",
    "this file?\n",
    "```"
   ]
  },
  {
   "cell_type": "code",
   "execution_count": 202,
   "metadata": {
    "collapsed": false
   },
   "outputs": [
    {
     "data": {
      "text/plain": [
       "{'dircnt': 113530,\n",
       " 'filecnt': 4367310,\n",
       " 'findfile': 'notReal.txt',\n",
       " 'stardir': '\\\\Users\\\\Jason\\\\Anaconda3'}"
      ]
     },
     "execution_count": 202,
     "metadata": {},
     "output_type": "execute_result"
    }
   ],
   "source": [
    "report('\\\\Users\\\\Jason\\\\Anaconda3', 'notReal.txt', '\\\\tmp\\\\report.txt')"
   ]
  },
  {
   "cell_type": "code",
   "execution_count": 84,
   "metadata": {
    "collapsed": false
   },
   "outputs": [
    {
     "data": {
      "text/plain": [
       "defaultdict(int,\n",
       "            {'dircnt': 7,\n",
       "             'filecnt': 4,\n",
       "             'findfile': 'NoSuch.txt',\n",
       "             'startdir': '/Users/lstead/me/classes/columbia/python/code/filetree'})"
      ]
     },
     "execution_count": 84,
     "metadata": {},
     "output_type": "execute_result"
    }
   ],
   "source": [
    "# report returns the dict from walkfs, but also writes \n",
    "# the report to /tmp/report.txt\n",
    "\n",
    "report('/Users/lstead/me/classes/columbia/python/code/filetree', \n",
    "       'NoSuch.txt', '/tmp/report.txt')"
   ]
  },
  {
   "cell_type": "markdown",
   "metadata": {},
   "source": [
    "## contents of /tmp/report.txt:\n",
    "\n",
    "``` \n",
    "recursively searched from startdir:\n",
    "/Users/lstead/me/classes/columbia/python/code/filetree\n",
    "found 7 dirs\n",
    "found 4 files\n",
    "\n",
    "did not find file:\n",
    "NoSuch.txt\n",
    "```"
   ]
  },
  {
   "cell_type": "code",
   "execution_count": 85,
   "metadata": {
    "collapsed": false,
    "scrolled": true
   },
   "outputs": [
    {
     "data": {
      "text/plain": [
       "defaultdict(int,\n",
       "            {'dircnt': 7,\n",
       "             'filecnt': 4,\n",
       "             'findfile': 'findtest.txt',\n",
       "             'findfilepath': '/Users/lstead/me/classes/columbia/python/code/filetree/dir1/dir11/dir111/dir112/findtest.txt',\n",
       "             'startdir': '/Users/lstead/me/classes/columbia/python/code/filetree'})"
      ]
     },
     "execution_count": 85,
     "metadata": {},
     "output_type": "execute_result"
    }
   ],
   "source": [
    "# writes '/tmp/report.txt' file...\n",
    "\n",
    "report('/Users/lstead/me/classes/columbia/python/code/filetree', \n",
    "       'findtest.txt', '/tmp/report.txt')"
   ]
  },
  {
   "cell_type": "markdown",
   "metadata": {},
   "source": [
    "## contents of /tmp/report.txt:\n",
    "```\n",
    "recursively searched from startdir:\n",
    "/Users/lstead/me/classes/columbia/python/code/filetree\n",
    "found 7 dirs\n",
    "found 4 files\n",
    "\n",
    "found file:\n",
    "/Users/lstead/me/classes/columbia/python/code/filetree/dir1/dir11/dir111/dir112/findtest.txt\n",
    "file contents:\n",
    "\n",
    "Can Python\n",
    "find\n",
    "this file?\n",
    "```"
   ]
  },
  {
   "cell_type": "markdown",
   "metadata": {},
   "source": [
    "# Problem 3 - run report in a command line script\n",
    "- place walkfs and report in a script file, report.py\n",
    "- you must place a try block around the call to report,\n",
    "and catch FileNotFoundError and NotADirectoryError\n",
    "    - if walkfs raises FileNotFoundError, the script should call sys.exit(1)\n",
    "    - if walkfs raises NotADirectoryError, the script should call sys.exit(2)\n",
    "    - if walkfs runs without error, the script should call sys.exit(0)\n",
    "- to parse the command line, you can use the argparse module, or \n",
    "since the args are simple, you can interface with sys.argv directly. your choice\n",
    "- see 13-sys notebook\n",
    "- when writing a non trivial script, it is often easier to develop functions in your favorite environment(spyder, notebook, etc), then\n",
    "just call the functions based on what command line args are supplied"
   ]
  },
  {
   "cell_type": "markdown",
   "metadata": {},
   "source": [
    "here is the command line invocation:\n",
    "\n",
    "python report.py reportpath startdir findpath\n",
    "\n",
    "which would be equivalent to this python call(note arg order is different)\n",
    "\n",
    "report(startdir, findpath, reportpath)"
   ]
  },
  {
   "cell_type": "code",
   "execution_count": null,
   "metadata": {
    "collapsed": true
   },
   "outputs": [],
   "source": [
    "#!/usr/bin/python\n",
    "\n",
    "#When run on personal computer, jupyter did not read filepath \n",
    "#correctly when calling through the report.py script\n",
    "#walkfs and report work normally for my PC (windows - 64bit)\n",
    "#but with the way jupyter and anacadonda seem to be set up\n",
    "#the relative root filepath changes between\n",
    "#C:\\Users\\Jason and C:\\User\\Jason\\Documents\\Python\n",
    "#This technicality made it extrememly difficult for me to debug\n",
    "#my code, therefore, my script most likely does not work\n",
    "#as jupyter did not let me run command line arguments as\n",
    "#instructed in the assignment \"python report.py reportpath ...\"\n",
    "#However, the try block is included with both exceptions\n",
    "#and sys.argv arguments, so there should be some exception\n",
    "#pulled if filenotfound or notadirectoryerror is raised\n",
    "\n",
    "#REPORT.PY SCRIPT\n",
    "\n",
    "import sys\n",
    "import os\n",
    "\n",
    "def walkfs(startdir, findfile):\n",
    "    \n",
    "    \n",
    "    if not os.path.exists(startdir):\n",
    "        raise FileNotFoundError\n",
    "        return\n",
    "    \n",
    "    if not os.path.isdir(startdir):\n",
    "        raise NotADirectoryError\n",
    "        return\n",
    "        \n",
    "    if os.path.isdir(startdir):\n",
    "        \n",
    "        dircount = 0\n",
    "        filecount = 0\n",
    "        \n",
    "        dictionary = {}\n",
    "        \n",
    "        dictionary['findfile'] = findfile\n",
    "        dictionary['stardir'] = startdir\n",
    "        \n",
    "        for curDir, dirs, files in os.walk(startdir):\n",
    "            \n",
    "            for file in files:\n",
    "                \n",
    "                filecount += len(files)\n",
    "                dircount += len(dirs)\n",
    "                \n",
    "                if file.endswith(findfile):\n",
    "                    dictionary['findfilepath'] = os.path.join(curDir, file)\n",
    "                \n",
    "        dictionary['dircnt'] = dircount\n",
    "        dictionary['filecnt'] = filecount\n",
    "           \n",
    "    return(dictionary)\n",
    "    \n",
    "def report(startdir, findfile, reportpath):\n",
    "    \n",
    "    diction = walkfs(startdir, findfile)\n",
    "    \n",
    "    dcount = 0\n",
    "    fcount = 0\n",
    "    \n",
    "    \n",
    "    while True:\n",
    "        \n",
    "        dcount = diction.get('dircnt')\n",
    "        fcount = diction.get('filecnt')\n",
    "            \n",
    "        if 'findfilepath' in diction:\n",
    "            \n",
    "            fpath = diction.get('findfilepath')\n",
    "            \n",
    "            with open(reportpath, 'w') as report:\n",
    "                \n",
    "                report.write(\"recursively searched from startdir:\\n%s\\nfound %d dirs \\nfound %d files \\n\\nfound file: \\n%s \\nfilecontents: \\n\\n\" % (startdir, dcount, fcount, fpath))\n",
    "                \n",
    "            foundpath = diction.get('findfilepath')\n",
    "                \n",
    "            with open(foundpath, \"r\") as p:\n",
    "                    with open(reportpath, \"a\") as f:\n",
    "                        for line in p:\n",
    "                            f.write(line)\n",
    "                \n",
    "            break\n",
    "        \n",
    "        else:\n",
    "            with open(reportpath, 'w') as report:\n",
    "                \n",
    "                report.write(\"recursively searched from startdir:\\n%s\\nfound %d dirs \\nfound %d files \\n\\ndid not find file: \\n%s \" % (startdir, dcount, fcount, findfile))\n",
    "                break\n",
    "\n",
    "\n",
    "    \n",
    "def main():\n",
    "    \n",
    "    if len(sys.argv) > 1:\n",
    "        \n",
    "        try:\n",
    "            report(sys.argv[1], sys.argv[2], sys.argv[3])\n",
    "              \n",
    "        except FileNotFoundError:\n",
    "            sys.exit(1)\n",
    "    \n",
    "        except NotADirectoryError:\n",
    "            sys.exit(2)\n",
    "    \n",
    "        else:\n",
    "            print (\"Written content in the file successfully\")\n",
    "    \n",
    "\n",
    "if __name__ == \"__main__\":\n",
    "    main() "
   ]
  },
  {
   "cell_type": "code",
   "execution_count": 83,
   "metadata": {
    "collapsed": false
   },
   "outputs": [
    {
     "name": "stdout",
     "output_type": "stream",
     "text": [
      "Not enough arguments\n"
     ]
    }
   ],
   "source": [
    "%run report.py "
   ]
  },
  {
   "cell_type": "markdown",
   "metadata": {},
   "source": [
    "# Problem 4 & 5 - vending machine\n",
    "- use objects to simulate a vending machine\n",
    "- money is in units of cents\n",
    "- remember\n",
    "    - 'self' must be the first arg to every method\n",
    "    - use the 'self.' prefix to refer to instance variables or other methods inside a method \n",
    "- see 10-oop notebook"
   ]
  },
  {
   "cell_type": "markdown",
   "metadata": {},
   "source": [
    "# class venditem represents a type of item for sale\n",
    "- has three instance variables\n",
    "    - name, price, quantity\n",
    "- define four methods\n",
    "    - `method __init__` loads data into the instance variables\n",
    "        - def `__init__`(self, name, price, quantity):\n",
    "    - `method __repr__`(self)\n",
    "        - controls how venditem prints\n",
    "        - use string format method\n",
    "            - '{} {}'.format(arg, arg2)\n",
    "        - see examples below\n",
    "    - `method __str__`(self)\n",
    "        - just call `__repr__` for string to return\n",
    "    - method sale(self)\n",
    "        - decrement the quantity "
   ]
  },
  {
   "cell_type": "code",
   "execution_count": 89,
   "metadata": {
    "collapsed": true
   },
   "outputs": [],
   "source": [
    "class venditem:\n",
    "    \n",
    "    def __init__(self, name, price, quantity):\n",
    "        \n",
    "        self.name = name\n",
    "        self.price = price\n",
    "        self.quantity = quantity\n",
    "        \n",
    "    def __repr__(self):\n",
    "        \n",
    "        return(\"venditem(name=%s, price=%d, quantity=%d)\" %(self.name, self.price, self.quantity))\n",
    "\n",
    "        \n",
    "    def sale(self):\n",
    "        self.quantity -= 1\n",
    "        \n",
    "    def __str__(self):        \n",
    "        return self.__repr__()"
   ]
  },
  {
   "cell_type": "code",
   "execution_count": 90,
   "metadata": {
    "collapsed": false
   },
   "outputs": [
    {
     "data": {
      "text/plain": [
       "[venditem(name=coke, price=95, quantity=3),\n",
       " venditem(name=pepsi, price=110, quantity=1)]"
      ]
     },
     "execution_count": 90,
     "metadata": {},
     "output_type": "execute_result"
    }
   ],
   "source": [
    "# __repr__ method shows object status\n",
    "\n",
    "vi = venditem('coke', 95, 3)\n",
    "vi2 = venditem('pepsi', 110, 1)\n",
    "\n",
    "[vi, vi2]"
   ]
  },
  {
   "cell_type": "code",
   "execution_count": 91,
   "metadata": {
    "collapsed": false
   },
   "outputs": [
    {
     "data": {
      "text/plain": [
       "venditem(name=coke, price=95, quantity=2)"
      ]
     },
     "execution_count": 91,
     "metadata": {},
     "output_type": "execute_result"
    }
   ],
   "source": [
    "# sale method decrements quantity instance variable\n",
    "\n",
    "vi.sale()\n",
    "vi"
   ]
  },
  {
   "cell_type": "code",
   "execution_count": 92,
   "metadata": {
    "collapsed": false
   },
   "outputs": [
    {
     "data": {
      "text/plain": [
       "['coke', 'pepsi', 95, 2, 1]"
      ]
     },
     "execution_count": 92,
     "metadata": {},
     "output_type": "execute_result"
    }
   ],
   "source": [
    "# note you can access instance variables directly:\n",
    "\n",
    "[vi.name, vi2.name, vi.price, vi.quantity, vi2.quantity]"
   ]
  },
  {
   "cell_type": "code",
   "execution_count": 93,
   "metadata": {
    "collapsed": false
   },
   "outputs": [
    {
     "data": {
      "text/plain": [
       "2"
      ]
     },
     "execution_count": 93,
     "metadata": {},
     "output_type": "execute_result"
    }
   ],
   "source": [
    "# can set same way\n",
    "\n",
    "vi.quantity = 2\n",
    "vi.quantity"
   ]
  },
  {
   "cell_type": "markdown",
   "metadata": {},
   "source": [
    "# class vendmachine \n",
    "- vendmachine has two instance variables\n",
    "    - 'cash' - the amount of money the machine has collected from item sales\n",
    "    - 'items' - a dictionary, where keys are the name of an item, and the values are the venditem object\n",
    "- define three methods\n",
    "    - `__init__`(self, stock)\n",
    "        - stock arg is a list of venditems, which represents what is loaded in the machine\n",
    "        - items dictionary should be constructed from stock\n",
    "        - cash should be initialized to 0\n",
    "    - buy(self, name, money) \n",
    "        - 'name' is 'coke', 'pepsi', etc\n",
    "        - money is how much money the customer deposited for the purchase\n",
    "        - four cases\n",
    "            - customer asks for an item not carried\n",
    "            - customer asks for an item whose quantity is 0 - out of stock\n",
    "            - customer doesn't put in enough money for the item\n",
    "            - everything ok, sell the item, decrement item quantity\n",
    "        - 'buy' return value should refund any money owed the customer \n",
    "            - money not applied to an item sale\n",
    "            - excess money deposited for an item sale\n",
    "        - log each buy case, using 'log' function below\n",
    "        - see examples below\n",
    "    - status(self)\n",
    "        - prints the amount of cash collected, and each of the items in stock\n",
    "    "
   ]
  },
  {
   "cell_type": "code",
   "execution_count": 190,
   "metadata": {
    "collapsed": true
   },
   "outputs": [],
   "source": [
    "import time\n",
    "\n",
    "class vendmachine:\n",
    "    \n",
    "    items = {}\n",
    "    cash = 0\n",
    "    \n",
    "    def __init__(self, stock):\n",
    "        \n",
    "        self.stock = stock\n",
    "        \n",
    "        for vend in self.stock:\n",
    "            vendmachine.items[vend.name] = vend\n",
    "        \n",
    "    def buy(self, name, money):\n",
    "        \n",
    "        #items = {'someitem': someVendItem}\n",
    "        if not name in vendmachine.items:\n",
    "            t = time.strftime('%X %x %Z - ')\n",
    "            msg = t + ': ' + 'not carried: ' + name\n",
    "            print(msg)\n",
    "            \n",
    "            return(money)\n",
    "        \n",
    "        elif vendmachine.items[name].quantity == 0:\n",
    "            t = time.strftime('%X %x %Z - ')\n",
    "            msg = t + ': ' + 'out of stock ' + name\n",
    "            print(msg)\n",
    "            return(money)\n",
    "        \n",
    "        elif money < vendmachine.items[name].price:\n",
    "            \n",
    "            t = time.strftime('%X %x %Z - ')\n",
    "            msg = t + ': ' + 'insufficient funds for: ' + name\n",
    "            print(msg)\n",
    "            \n",
    "            return(money)\n",
    "        else:\n",
    "            vendmachine.cash = money\n",
    "            vendmachine.items[name].sale()\n",
    "            \n",
    "            t = time.strftime('%X %x %Z - ')\n",
    "            msg = t + ': ' + 'sold: ' + name\n",
    "            print(msg)\n",
    "            \n",
    "            change = vendmachine.cash - vendmachine.items[name].price\n",
    "            return(change)\n",
    "        \n",
    "        \n",
    "    def status(self):\n",
    "        print (\"cash collected: %d\" %vendmachine.cash)\n",
    "        for it in self.stock:\n",
    "            print(it)"
   ]
  },
  {
   "cell_type": "code",
   "execution_count": 191,
   "metadata": {
    "collapsed": true
   },
   "outputs": [],
   "source": [
    "# could log to a file by doing file append\n",
    "# with open(logpath, 'a') as fd\n",
    "#    write(msg + '\\n')\n",
    "\n",
    "import time\n",
    "    \n",
    "def log(msg, name):\n",
    "    t = time.strftime('%X %x %Z - ')\n",
    "    msg = t + msg + ': ' + name\n",
    "    print(msg)\n"
   ]
  },
  {
   "cell_type": "code",
   "execution_count": 192,
   "metadata": {
    "collapsed": false,
    "scrolled": true
   },
   "outputs": [
    {
     "name": "stdout",
     "output_type": "stream",
     "text": [
      "cash collected: 0\n",
      "venditem(name=coke, price=95, quantity=3)\n",
      "venditem(name=pepsi, price=110, quantity=1)\n",
      "venditem(name=peanut M&Ms, price=100, quantity=2)\n"
     ]
    }
   ],
   "source": [
    "vi = venditem('coke', 95, 3)\n",
    "vi2 = venditem('pepsi', 110, 1)\n",
    "vi3 = venditem('peanut M&Ms', 100, 2)\n",
    "stock = [vi, vi2, vi3]\n",
    "\n",
    "vm = vendmachine(stock)\n",
    "vm.status()"
   ]
  },
  {
   "cell_type": "code",
   "execution_count": 193,
   "metadata": {
    "collapsed": false,
    "scrolled": true
   },
   "outputs": [
    {
     "name": "stdout",
     "output_type": "stream",
     "text": [
      "12:13:05 10/07/16 Eastern Daylight Time - : insufficient funds for: coke\n"
     ]
    },
    {
     "data": {
      "text/plain": [
       "45"
      ]
     },
     "execution_count": 193,
     "metadata": {},
     "output_type": "execute_result"
    }
   ],
   "source": [
    "vm.buy('coke', 45)"
   ]
  },
  {
   "cell_type": "code",
   "execution_count": 194,
   "metadata": {
    "collapsed": false,
    "scrolled": false
   },
   "outputs": [
    {
     "name": "stdout",
     "output_type": "stream",
     "text": [
      "12:13:05 10/07/16 Eastern Daylight Time - : sold: pepsi\n"
     ]
    },
    {
     "data": {
      "text/plain": [
       "90"
      ]
     },
     "execution_count": 194,
     "metadata": {},
     "output_type": "execute_result"
    }
   ],
   "source": [
    "vm.buy('pepsi', 200)"
   ]
  },
  {
   "cell_type": "code",
   "execution_count": 195,
   "metadata": {
    "collapsed": false,
    "scrolled": true
   },
   "outputs": [
    {
     "name": "stdout",
     "output_type": "stream",
     "text": [
      "cash collected: 200\n",
      "venditem(name=coke, price=95, quantity=3)\n",
      "venditem(name=pepsi, price=110, quantity=0)\n",
      "venditem(name=peanut M&Ms, price=100, quantity=2)\n"
     ]
    }
   ],
   "source": [
    "vm.status()"
   ]
  },
  {
   "cell_type": "code",
   "execution_count": 196,
   "metadata": {
    "collapsed": false,
    "scrolled": true
   },
   "outputs": [
    {
     "name": "stdout",
     "output_type": "stream",
     "text": [
      "12:13:06 10/07/16 Eastern Daylight Time - : not carried: mtndew\n"
     ]
    },
    {
     "data": {
      "text/plain": [
       "200"
      ]
     },
     "execution_count": 196,
     "metadata": {},
     "output_type": "execute_result"
    }
   ],
   "source": [
    "vm.buy('mtndew', 200)"
   ]
  },
  {
   "cell_type": "code",
   "execution_count": 197,
   "metadata": {
    "collapsed": false,
    "scrolled": true
   },
   "outputs": [
    {
     "name": "stdout",
     "output_type": "stream",
     "text": [
      "12:13:07 10/07/16 Eastern Daylight Time - : sold: coke\n"
     ]
    },
    {
     "data": {
      "text/plain": [
       "5"
      ]
     },
     "execution_count": 197,
     "metadata": {},
     "output_type": "execute_result"
    }
   ],
   "source": [
    "vm.buy('coke', 100)"
   ]
  },
  {
   "cell_type": "code",
   "execution_count": 198,
   "metadata": {
    "collapsed": false
   },
   "outputs": [
    {
     "name": "stdout",
     "output_type": "stream",
     "text": [
      "cash collected: 100\n",
      "venditem(name=coke, price=95, quantity=2)\n",
      "venditem(name=pepsi, price=110, quantity=0)\n",
      "venditem(name=peanut M&Ms, price=100, quantity=2)\n"
     ]
    }
   ],
   "source": [
    "vm.status()"
   ]
  }
 ],
 "metadata": {
  "anaconda-cloud": {},
  "kernelspec": {
   "display_name": "Python [Root]",
   "language": "python",
   "name": "Python [Root]"
  },
  "language_info": {
   "codemirror_mode": {
    "name": "ipython",
    "version": 3
   },
   "file_extension": ".py",
   "mimetype": "text/x-python",
   "name": "python",
   "nbconvert_exporter": "python",
   "pygments_lexer": "ipython3",
   "version": "3.5.2"
  }
 },
 "nbformat": 4,
 "nbformat_minor": 0
}
